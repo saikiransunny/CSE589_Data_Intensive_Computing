{
 "cells": [
  {
   "cell_type": "code",
   "execution_count": 4,
   "metadata": {},
   "outputs": [
    {
     "name": "stdout",
     "output_type": "stream",
     "text": [
      "Susan now lives in Washington\n",
      "and makes $105000.0\n",
      "Ellen now lives in Texas\n",
      "and makes $78750.0\n"
     ]
    }
   ],
   "source": [
    "SALARY_RAISE_FACTOR = 0.05\n",
    "STATE_CODE_MAP = {'WA': 'Washington', 'TX': 'Texas'}\n",
    "\n",
    "def update_employee_record(rec):\n",
    "    old_sal = rec['salary']\n",
    "    new_sal = old_sal * (1 + SALARY_RAISE_FACTOR)\n",
    "    rec['salary'] = new_sal\n",
    "    state_code = rec['state_code']\n",
    "    rec['state_name'] = STATE_CODE_MAP[state_code]\n",
    "\n",
    "input_data = [\n",
    "{'employee_name': 'Susan', 'salary': 100000.0,\n",
    "'state_code': 'WA'},\n",
    "{'employee_name': 'Ellen', 'salary': 75000.0,\n",
    "'state_code': 'TX'},\n",
    "]\n",
    "\n",
    "for rec in input_data:\n",
    "    update_employee_record(rec)\n",
    "    name = rec['employee_name']\n",
    "    salary = rec['salary']\n",
    "    state = rec['state_name']\n",
    "    print(name + ' now lives in ' + state)\n",
    "    print ('and makes $' + str(salary))"
   ]
  },
  {
   "cell_type": "code",
   "execution_count": 5,
   "metadata": {
    "collapsed": true
   },
   "outputs": [],
   "source": [
    "my_integer = 2\n",
    "my_other_integer = 2 + 3\n",
    "my_float = 2.0\n",
    "my_true_bool = True\n",
    "my_false_bool = False\n",
    "this_is_true = (0 < 100)\n",
    "this_is_false = (0 > 100)"
   ]
  },
  {
   "cell_type": "code",
   "execution_count": 35,
   "metadata": {},
   "outputs": [
    {
     "name": "stdout",
     "output_type": "stream",
     "text": [
      "2\n",
      "5\n",
      "2.0\n",
      "True\n",
      "False\n",
      "True\n",
      "False\n"
     ]
    }
   ],
   "source": [
    "print(my_integer)\n",
    "print(my_other_integer)\n",
    "print(my_float)\n",
    "print(my_true_bool)\n",
    "print(my_false_bool)\n",
    "print(this_is_true)\n",
    "print(this_is_false)"
   ]
  },
  {
   "cell_type": "code",
   "execution_count": 6,
   "metadata": {
    "collapsed": true
   },
   "outputs": [],
   "source": [
    "a_string = \"hello\"\n",
    "same_as_previous = 'hello'\n",
    "an_empty_string = \"\"\n",
    "w_a_single_quote = \"hello's\"\n",
    "multi_line_string = \"\"\"line 1 line 2\"\"\""
   ]
  },
  {
   "cell_type": "code",
   "execution_count": 36,
   "metadata": {},
   "outputs": [
    {
     "name": "stdout",
     "output_type": "stream",
     "text": [
      "hello\n",
      "hello\n",
      "\n",
      "hello's\n",
      "line 1 line 2\n"
     ]
    }
   ],
   "source": [
    "print(a_string)\n",
    "print(same_as_previous)\n",
    "print(an_empty_string)\n",
    "print(w_a_single_quote)\n",
    "print(multi_line_string)"
   ]
  },
  {
   "cell_type": "code",
   "execution_count": 7,
   "metadata": {},
   "outputs": [
    {
     "name": "stdout",
     "output_type": "stream",
     "text": [
      "A\n",
      "AB\n",
      "BC\n"
     ]
    }
   ],
   "source": [
    "print(\"ABCD\"[0])\n",
    "print(\"ABCD\"[0:2])\n",
    "print(\"ABCD\"[1:3])"
   ]
  },
  {
   "cell_type": "code",
   "execution_count": 8,
   "metadata": {},
   "outputs": [
    {
     "data": {
      "text/plain": [
       "25"
      ]
     },
     "execution_count": 8,
     "metadata": {},
     "output_type": "execute_result"
    }
   ],
   "source": [
    "a = 5 \n",
    "def sqr(x):\n",
    "    \"This function just squares its input \"\n",
    "    return x * x\n",
    "sqr(5)"
   ]
  },
  {
   "cell_type": "code",
   "execution_count": 9,
   "metadata": {
    "collapsed": true
   },
   "outputs": [],
   "source": [
    "my_list = [\"a \", \"b \", \"c \"]\n",
    "my_set = set(my_list)\n",
    "my_tuple = tuple(my_list)"
   ]
  },
  {
   "cell_type": "code",
   "execution_count": 38,
   "metadata": {},
   "outputs": [
    {
     "name": "stdout",
     "output_type": "stream",
     "text": [
      "{'b ', 'a ', 'c '}\n",
      "('a ', 'b ', 'c ')\n"
     ]
    }
   ],
   "source": [
    "print(my_set)\n",
    "print(my_tuple)"
   ]
  },
  {
   "cell_type": "code",
   "execution_count": 39,
   "metadata": {},
   "outputs": [
    {
     "name": "stdout",
     "output_type": "stream",
     "text": [
      "a \n"
     ]
    }
   ],
   "source": [
    "my_list = [\"a \", \"b \", \"c \"]\n",
    "print(my_list[0])"
   ]
  },
  {
   "cell_type": "code",
   "execution_count": 40,
   "metadata": {
    "collapsed": true
   },
   "outputs": [],
   "source": [
    "my_list[0] = \"A \" \n",
    "my_list.append(\"d \") \n",
    "\n",
    "mixed_list = [\"A \", 5.7, \"B \", [1,2,3]]"
   ]
  },
  {
   "cell_type": "code",
   "execution_count": 41,
   "metadata": {},
   "outputs": [
    {
     "name": "stdout",
     "output_type": "stream",
     "text": [
      "['A ', 'b ', 'c ', 'd ']\n",
      "['A ', 5.7, 'B ', [1, 2, 3]]\n"
     ]
    }
   ],
   "source": [
    "print(my_list)\n",
    "print(mixed_list)"
   ]
  },
  {
   "cell_type": "code",
   "execution_count": 42,
   "metadata": {
    "collapsed": true
   },
   "outputs": [],
   "source": [
    "original_list = [1,2,3,4,5,6,7,8]\n",
    "squares = [x*x for x in original_list]\n",
    "squares_of_evens = [x*x for x in original_list]"
   ]
  },
  {
   "cell_type": "code",
   "execution_count": 43,
   "metadata": {},
   "outputs": [
    {
     "name": "stdout",
     "output_type": "stream",
     "text": [
      "[1, 2, 3, 4, 5, 6, 7, 8]\n",
      "[1, 4, 9, 16, 25, 36, 49, 64]\n",
      "[1, 4, 9, 16, 25, 36, 49, 64]\n"
     ]
    }
   ],
   "source": [
    "print(original_list)\n",
    "print(squares)\n",
    "print(squares_of_evens)"
   ]
  },
  {
   "cell_type": "code",
   "execution_count": 12,
   "metadata": {
    "collapsed": true
   },
   "outputs": [],
   "source": [
    "my_list = [\"a\", \"b\", \"c\"]\n",
    "first_two_elements = my_list[0:3]\n",
    "last_two_elements = my_list[1:]\n",
    "all_but_last_element = my_list[:-1]"
   ]
  },
  {
   "cell_type": "code",
   "execution_count": 44,
   "metadata": {},
   "outputs": [
    {
     "name": "stdout",
     "output_type": "stream",
     "text": [
      "['A ', 'b ', 'c ', 'd ']\n",
      "['a', 'b', 'c']\n",
      "['b', 'c']\n",
      "['a', 'b']\n"
     ]
    }
   ],
   "source": [
    "print(my_list)\n",
    "print(first_two_elements)\n",
    "print(last_two_elements)\n",
    "print(all_but_last_element)"
   ]
  },
  {
   "cell_type": "code",
   "execution_count": 13,
   "metadata": {},
   "outputs": [
    {
     "name": "stdout",
     "output_type": "stream",
     "text": [
      "['ABC', 'DEF']\n",
      "['ABC', 'DEF']\n",
      "['ABC', '\\tDEF']\n",
      "['', 'C', 'D']\n",
      "A,B,C\n"
     ]
    }
   ],
   "source": [
    "print(\"ABC DEF\".split())\n",
    "print(\"ABC \\tDEF\".split())\n",
    "print(\"ABC \\tDEF\".split(' '))\n",
    "print(\"ABCABD\".split(\"AB\"))\n",
    "print(\",\".join([\"A\", \"B\", \"C\"]))"
   ]
  },
  {
   "cell_type": "code",
   "execution_count": 14,
   "metadata": {},
   "outputs": [
    {
     "data": {
      "text/plain": [
       "'BDF'"
      ]
     },
     "execution_count": 14,
     "metadata": {},
     "output_type": "execute_result"
    }
   ],
   "source": [
    "start, end, count_by = 1, 7, 2\n",
    "\"ABCDEFG\"[start: end: count_by]"
   ]
  },
  {
   "cell_type": "code",
   "execution_count": 15,
   "metadata": {},
   "outputs": [
    {
     "name": "stdout",
     "output_type": "stream",
     "text": [
      "1\n"
     ]
    }
   ],
   "source": [
    "my_dict = {\"January\": 1, \"February\":2}\n",
    "print(my_dict[\"January\"])\n",
    "my_dict[\"March\"] = 3 \n",
    "my_dict[\"January\"] = \"Start of the year\" "
   ]
  },
  {
   "cell_type": "code",
   "execution_count": 16,
   "metadata": {
    "collapsed": true
   },
   "outputs": [],
   "source": [
    "pairs = [(\"one\",1), (\"two\",2)]\n",
    "as_dict = dict(pairs)\n",
    "same_as_pairs = as_dict.items()"
   ]
  },
  {
   "cell_type": "code",
   "execution_count": 45,
   "metadata": {},
   "outputs": [
    {
     "name": "stdout",
     "output_type": "stream",
     "text": [
      "[('one', 1), ('two', 2)]\n",
      "{'one': 1, 'two': 2}\n",
      "dict_items([('one', 1), ('two', 2)])\n"
     ]
    }
   ],
   "source": [
    "print(pairs)\n",
    "print(as_dict)\n",
    "print(same_as_pairs)"
   ]
  },
  {
   "cell_type": "code",
   "execution_count": 46,
   "metadata": {},
   "outputs": [
    {
     "name": "stdout",
     "output_type": "stream",
     "text": [
      "False\n",
      "True\n"
     ]
    }
   ],
   "source": [
    "s = set()\n",
    "print(5 in s)\n",
    "s.add(5)\n",
    "print(5 in s)"
   ]
  },
  {
   "cell_type": "code",
   "execution_count": 18,
   "metadata": {
    "collapsed": true
   },
   "outputs": [],
   "source": [
    "def my_function(x):\n",
    "    y = x+1\n",
    "    x_sqrd = x*x\n",
    "    return x_sqrd\n",
    "five_plus_one_sqrd = my_function(5)"
   ]
  },
  {
   "cell_type": "code",
   "execution_count": 48,
   "metadata": {},
   "outputs": [
    {
     "data": {
      "text/plain": [
       "25"
      ]
     },
     "execution_count": 48,
     "metadata": {},
     "output_type": "execute_result"
    }
   ],
   "source": [
    "five_plus_one_sqrd"
   ]
  },
  {
   "cell_type": "code",
   "execution_count": 19,
   "metadata": {
    "collapsed": true
   },
   "outputs": [],
   "source": [
    "def rais(x, n=2):\n",
    "    return pow(x,n)\n",
    "two_sqrd = rais(2)\n",
    "two_cubed = rais(2, n=3)"
   ]
  },
  {
   "cell_type": "code",
   "execution_count": 49,
   "metadata": {},
   "outputs": [
    {
     "name": "stdout",
     "output_type": "stream",
     "text": [
      "4\n",
      "8\n"
     ]
    }
   ],
   "source": [
    "print(two_sqrd)\n",
    "print(two_cubed)"
   ]
  },
  {
   "cell_type": "code",
   "execution_count": 51,
   "metadata": {
    "collapsed": true
   },
   "outputs": [],
   "source": [
    "sqr = lambda x : x*x\n",
    "five_sqrd = sqr(5)"
   ]
  },
  {
   "cell_type": "code",
   "execution_count": 52,
   "metadata": {},
   "outputs": [
    {
     "data": {
      "text/plain": [
       "25"
      ]
     },
     "execution_count": 52,
     "metadata": {},
     "output_type": "execute_result"
    }
   ],
   "source": [
    "five_sqrd"
   ]
  },
  {
   "cell_type": "code",
   "execution_count": 21,
   "metadata": {
    "collapsed": true
   },
   "outputs": [],
   "source": [
    "def apply_to_evens(a_list, a_func):\n",
    "    return [a_func(x) for x in a_list if x%2==0]\n",
    "my_list = [1,2,3,4,5]\n",
    "sqrs_of_evens = apply_to_evens(my_list, lambda x:x*x)"
   ]
  },
  {
   "cell_type": "code",
   "execution_count": 53,
   "metadata": {},
   "outputs": [
    {
     "data": {
      "text/plain": [
       "[4, 16]"
      ]
     },
     "execution_count": 53,
     "metadata": {},
     "output_type": "execute_result"
    }
   ],
   "source": [
    "sqrs_of_evens"
   ]
  },
  {
   "cell_type": "code",
   "execution_count": 22,
   "metadata": {},
   "outputs": [
    {
     "name": "stdout",
     "output_type": "stream",
     "text": [
      "the number is  1\n",
      "the number is  2\n",
      "the number is  3\n",
      "the value for  January  is  Start of the year\n",
      "the value for  February  is  2\n",
      "the value for  March  is  3\n"
     ]
    }
   ],
   "source": [
    "my_list = [1, 2, 3]\n",
    "for x in my_list:\n",
    "    print (\"the number is \", x)\n",
    "for key, value in my_dict.items():\n",
    "    print(\"the value for \", key, \" is \", value)"
   ]
  },
  {
   "cell_type": "code",
   "execution_count": 23,
   "metadata": {},
   "outputs": [
    {
     "name": "stdout",
     "output_type": "stream",
     "text": [
      "i is greater than 5\n",
      "i is still less than five\n",
      "i is still less than five\n",
      "i is still less than five\n"
     ]
    }
   ],
   "source": [
    "i=6\n",
    "if i < 3:\n",
    "    print(\"i is less than three\")\n",
    "elif i < 5: \n",
    "    print(\"i is between 3 and 5\")\n",
    "else: \n",
    "    print(\"i is greater than 5\")\n",
    "i = 2\n",
    "while i < 5:\n",
    "    print(\"i is still less than five\")\n",
    "    i = i+1"
   ]
  },
  {
   "cell_type": "code",
   "execution_count": 24,
   "metadata": {},
   "outputs": [
    {
     "name": "stdout",
     "output_type": "stream",
     "text": [
      "There were < 10 lines\n"
     ]
    }
   ],
   "source": [
    "try:\n",
    "    lines = input_text.split(\"\\n\")\n",
    "    print(\"tenth line was: \", lines[9])\n",
    "except:\n",
    "    print(\"There were < 10 lines\")"
   ]
  },
  {
   "cell_type": "code",
   "execution_count": 25,
   "metadata": {},
   "outputs": [
    {
     "name": "stdout",
     "output_type": "stream",
     "text": [
      "bark bark!!\n"
     ]
    }
   ],
   "source": [
    "class Dog:\n",
    "    def __init__(self, name):\n",
    "        self.name = name\n",
    "    def respond_to_command(self, command):\n",
    "        if command == self.name: self.speak()\n",
    "    def speak(self):\n",
    "        print(\"bark bark!!\")\n",
    "fido = Dog(\"fido\")\n",
    "fido.respond_to_command(\"spot\") \n",
    "fido.respond_to_command(\"fido\") "
   ]
  },
  {
   "cell_type": "code",
   "execution_count": 26,
   "metadata": {},
   "outputs": [
    {
     "name": "stdout",
     "output_type": "stream",
     "text": [
      "5\n",
      "[5]\n"
     ]
    }
   ],
   "source": [
    "a = 5 # a is a hashable int\n",
    "b = a # b points to a COPY of a\n",
    "a = a + 1\n",
    "print(b) # b has NOT been incremented\n",
    "A = [] # A is an UNhashable list\n",
    "B = A # B points to the SAME list as A.\n",
    "A.append(5)\n",
    "print(B)"
   ]
  },
  {
   "cell_type": "code",
   "execution_count": 27,
   "metadata": {},
   "outputs": [
    {
     "data": {
      "text/plain": [
       "'bob'"
      ]
     },
     "execution_count": 27,
     "metadata": {},
     "output_type": "execute_result"
    }
   ],
   "source": [
    "A = [{}, {}] # list of dicts\n",
    "B = [x for x in A]\n",
    "A[0][\"name\"] = \"bob\"\n",
    "B[0][\"name\"]"
   ]
  },
  {
   "cell_type": "code",
   "execution_count": 54,
   "metadata": {
    "collapsed": true
   },
   "outputs": [],
   "source": [
    "import pandas as pd\n",
    "# Making data frame from a dictionary\n",
    "# that maps column names to their values\n",
    "df = pd.DataFrame({\n",
    "\"name\": [\"Bob\", \"Alex\", \"Janice\"],\n",
    "\"age\": [60, 25, 33]\n",
    "})\n",
    "# Reading a DataFrame from a file\n",
    "#other_df = pd.read_csv(“myfile.csv”)\n",
    "# Making new columns from old ones\n",
    "# is really easy\n",
    "df[\"age_plus_one\"] = df[\"age\"] + 1\n",
    "df[\"age_times_two\"] = 2 * df[\"age\"]\n",
    "df[\"age_squared\"] = df[\"age\"] * df[\"age\"]\n",
    "df[\"over_30\"] = (df[\"age\"] > 30) # this col is bools\n",
    "# The columns have various built-in aggregate functions\n",
    "total_age = df[\"age\"].sum()\n",
    "median_age = df[\"age\"].quantile(0.5)\n",
    "# You can select several rows of the DataFrame\n",
    "# and make a new DataFrame out of them\n",
    "df_below50 = df[df[\"age\"] < 50]\n",
    "# Apply a custom function to a column\n",
    "df[\"age_squared\"] = df[\"age\"].apply(lambda x: x*x)"
   ]
  },
  {
   "cell_type": "code",
   "execution_count": 55,
   "metadata": {},
   "outputs": [
    {
     "data": {
      "text/html": [
       "<div>\n",
       "<style>\n",
       "    .dataframe thead tr:only-child th {\n",
       "        text-align: right;\n",
       "    }\n",
       "\n",
       "    .dataframe thead th {\n",
       "        text-align: left;\n",
       "    }\n",
       "\n",
       "    .dataframe tbody tr th {\n",
       "        vertical-align: top;\n",
       "    }\n",
       "</style>\n",
       "<table border=\"1\" class=\"dataframe\">\n",
       "  <thead>\n",
       "    <tr style=\"text-align: right;\">\n",
       "      <th></th>\n",
       "      <th>age</th>\n",
       "      <th>name</th>\n",
       "      <th>age_plus_one</th>\n",
       "      <th>age_times_two</th>\n",
       "      <th>age_squared</th>\n",
       "      <th>over_30</th>\n",
       "    </tr>\n",
       "  </thead>\n",
       "  <tbody>\n",
       "    <tr>\n",
       "      <th>0</th>\n",
       "      <td>60</td>\n",
       "      <td>Bob</td>\n",
       "      <td>61</td>\n",
       "      <td>120</td>\n",
       "      <td>3600</td>\n",
       "      <td>True</td>\n",
       "    </tr>\n",
       "    <tr>\n",
       "      <th>1</th>\n",
       "      <td>25</td>\n",
       "      <td>Alex</td>\n",
       "      <td>26</td>\n",
       "      <td>50</td>\n",
       "      <td>625</td>\n",
       "      <td>False</td>\n",
       "    </tr>\n",
       "    <tr>\n",
       "      <th>2</th>\n",
       "      <td>33</td>\n",
       "      <td>Janice</td>\n",
       "      <td>34</td>\n",
       "      <td>66</td>\n",
       "      <td>1089</td>\n",
       "      <td>True</td>\n",
       "    </tr>\n",
       "  </tbody>\n",
       "</table>\n",
       "</div>"
      ],
      "text/plain": [
       "   age    name  age_plus_one  age_times_two  age_squared  over_30\n",
       "0   60     Bob            61            120         3600     True\n",
       "1   25    Alex            26             50          625    False\n",
       "2   33  Janice            34             66         1089     True"
      ]
     },
     "execution_count": 55,
     "metadata": {},
     "output_type": "execute_result"
    }
   ],
   "source": [
    "df"
   ]
  },
  {
   "cell_type": "code",
   "execution_count": 29,
   "metadata": {},
   "outputs": [
    {
     "name": "stdout",
     "output_type": "stream",
     "text": [
      "RangeIndex(start=0, stop=3, step=1)\n",
      "Index(['Bob', 'Alex', 'Jane'], dtype='object', name='name')\n",
      "60\n"
     ]
    },
    {
     "name": "stderr",
     "output_type": "stream",
     "text": [
      "C:\\Users\\harik\\Anaconda3\\lib\\site-packages\\ipykernel_launcher.py:10: DeprecationWarning: \n",
      ".ix is deprecated. Please use\n",
      ".loc for label based indexing or\n",
      ".iloc for positional indexing\n",
      "\n",
      "See the documentation here:\n",
      "http://pandas.pydata.org/pandas-docs/stable/indexing.html#ix-indexer-is-deprecated\n",
      "  # Remove the CWD from sys.path while we load stuff.\n"
     ]
    }
   ],
   "source": [
    "df = pd.DataFrame({\n",
    "\"name\": [\"Bob\", \"Alex\", \"Jane\"],\n",
    "\"age\": [60, 25, 33]})\n",
    "print(df.index) # prints 0‐2, the line numbers\n",
    "# Create a DataFrame containing the same data,\n",
    "# but where name is the index\n",
    "df_w_name_as_ind = df.set_index(\"name\")\n",
    "print (df_w_name_as_ind.index) # prints their names\n",
    "# Get the row for Bob\n",
    "bobs_row = df_w_name_as_ind.ix[\"Bob\"]\n",
    "print (bobs_row[\"age\"]) # prints 60"
   ]
  },
  {
   "cell_type": "code",
   "execution_count": 30,
   "metadata": {},
   "outputs": [
    {
     "name": "stdout",
     "output_type": "stream",
     "text": [
      "0    1\n",
      "1    2\n",
      "2    3\n",
      "dtype: int64\n",
      "0    3\n",
      "1    4\n",
      "2    5\n",
      "dtype: int64\n",
      "RangeIndex(start=0, stop=3, step=1)\n",
      "0    5\n",
      "1    6\n",
      "2    8\n",
      "dtype: int64\n",
      "age    60\n",
      "Name: Bob, dtype: int64\n"
     ]
    }
   ],
   "source": [
    "import pandas as pd\n",
    "s = pd.Series([1,2,3]) # make Series from list\n",
    "# display the values in s\n",
    "# note index is to the far left\n",
    "print(s)\n",
    "print(s+2) # Add a number to each element of s\n",
    "print(s.index) # you can access the index directly\n",
    "# Adding two series will add corresponding elements to each other\n",
    "print(s + pd.Series([4,4,5]))\n",
    "bobs_row = df_w_name_as_ind.ix[\"Bob\"]\n",
    "type(bobs_row)\n",
    "print(bobs_row)"
   ]
  },
  {
   "cell_type": "code",
   "execution_count": 31,
   "metadata": {},
   "outputs": [
    {
     "name": "stdout",
     "output_type": "stream",
     "text": [
      "        age  height\n",
      "name               \n",
      "Tom      60     6.2\n",
      "Tyrell   25     4.0\n",
      "Claire   33     5.5\n",
      "     name  age  height\n",
      "0     Tom   60     6.2\n",
      "1  Tyrell   25     4.0\n",
      "2  Claire   33     5.5\n"
     ]
    }
   ],
   "source": [
    "df_w_age = pd.DataFrame({\n",
    "\"name\": [\"Tom\", \"Tyrell\", \"Claire\"],\n",
    "\"age\": [60, 25, 33]})\n",
    "df_w_height = pd.DataFrame({\n",
    "\"name\": [\"Tom\", \"Tyrell\", \"Claire\"],\n",
    "\"height\": [6.2, 4.0, 5.5]\n",
    "})\n",
    "joined = df_w_age.set_index(\"name\").join(\n",
    "df_w_height.set_index(\"name\"))\n",
    "print(joined)\n",
    "print(joined.reset_index())"
   ]
  },
  {
   "cell_type": "code",
   "execution_count": 32,
   "metadata": {},
   "outputs": [
    {
     "name": "stdout",
     "output_type": "stream",
     "text": [
      "         age  height\n",
      "gender              \n",
      "F       33.0     5.5\n",
      "M       42.5     5.1\n",
      "        mean_height    name  oldest\n",
      "gender                             \n",
      "F               5.5  Claire      33\n",
      "M               5.1  Tyrell      60\n"
     ]
    }
   ],
   "source": [
    "df = pd.DataFrame({\n",
    "\"name\": [\"Tom\", \"Tyrell\", \"Claire\"],\n",
    "\"age\": [60, 25, 33],\n",
    "\"height\": [6.2, 4.0, 5.5],\n",
    "\n",
    "\"gender\": [\"M\", \"M\", \"F\"]\n",
    "})\n",
    "# use built-in aggregates\n",
    "print(df.groupby(\"gender\").mean())\n",
    "medians = df.groupby(\"gender\").quantile(0.5)\n",
    "# Use a custom aggregation function\n",
    "def agg(ddf):\n",
    "    return pd.Series({\n",
    "    \"name\": max(ddf[\"name\"]),\n",
    "    \"oldest\": max(ddf[\"age\"]),\n",
    "    \"mean_height\": ddf[\"height\"].mean()\n",
    "                        })\n",
    "print(df.groupby(\"gender\").apply(agg))"
   ]
  }
 ],
 "metadata": {
  "kernelspec": {
   "display_name": "Python 3",
   "language": "python",
   "name": "python3"
  },
  "language_info": {
   "codemirror_mode": {
    "name": "ipython",
    "version": 3
   },
   "file_extension": ".py",
   "mimetype": "text/x-python",
   "name": "python",
   "nbconvert_exporter": "python",
   "pygments_lexer": "ipython3",
   "version": "3.6.3"
  }
 },
 "nbformat": 4,
 "nbformat_minor": 2
}
