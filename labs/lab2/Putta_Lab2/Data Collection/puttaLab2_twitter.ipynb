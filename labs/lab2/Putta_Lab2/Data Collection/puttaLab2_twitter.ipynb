{
 "cells": [
  {
   "cell_type": "markdown",
   "metadata": {},
   "source": [
    "Team mates:\n",
    "\n",
    "Sai Kiran Putta <br>\n",
    "Hari Krishna Rangineeni"
   ]
  },
  {
   "cell_type": "code",
   "execution_count": 2,
   "metadata": {},
   "outputs": [
    {
     "name": "stderr",
     "output_type": "stream",
     "text": [
      "Warning message:\n",
      "\"package 'twitteR' was built under R version 3.4.3\""
     ]
    }
   ],
   "source": [
    "library(\"twitteR\")"
   ]
  },
  {
   "cell_type": "code",
   "execution_count": 3,
   "metadata": {},
   "outputs": [
    {
     "name": "stdout",
     "output_type": "stream",
     "text": [
      "[1] \"Using direct authentication\"\n"
     ]
    }
   ],
   "source": [
    "Api_Key <- \"aLrRGHQDC5o293fNV3Bc7KcAI\"\n",
    "Api_Secret <- \"zwPbD81eQSpxHWMorvyKVRCwt1qPbpQ6NlkjwlWmd9jLqxx5ZL\"\n",
    "Access_Token <- \"968946586490417152-Eves2QI5iu6VCAFK6zRkqSqSlA8s8pX\"\n",
    "Access_Secret <- \"IqWXgJiag6BVxooVc5PLF4TbnS7EgZo5yRo1mv8DDCFaT\"\n",
    "\n",
    "setup_twitter_oauth(Api_Key, Api_Secret, Access_Token, Access_Secret)"
   ]
  },
  {
   "cell_type": "code",
   "execution_count": 4,
   "metadata": {},
   "outputs": [
    {
     "name": "stderr",
     "output_type": "stream",
     "text": [
      "Warning message in doRppAPICall(\"search/tweets\", n, params = params, retryOnRateLimit = retryOnRateLimit, :\n",
      "\"20000 tweets were requested but the API can only return 999\""
     ]
    }
   ],
   "source": [
    "#Searchword <- \"#Facebook Cambridge Analytica\"\n",
    "#Searchword <- \"#FacebookDataLeaks\"\n",
    "Searchword <- \"#Cambridge Analytica\"\n",
    "\n",
    "Tweets <- searchTwitter(Searchword, n=20000)"
   ]
  },
  {
   "cell_type": "code",
   "execution_count": 7,
   "metadata": {
    "collapsed": true
   },
   "outputs": [],
   "source": [
    "Tweets_DF_1 <- twListToDF(Tweets)\n",
    "Tweets_DF_2 <- twListToDF(Tweets)\n",
    "Tweets_DF_3 <- twListToDF(Tweets)"
   ]
  },
  {
   "cell_type": "code",
   "execution_count": 5,
   "metadata": {
    "collapsed": true
   },
   "outputs": [],
   "source": [
    "write.csv(Tweets_DF_1,\"Tweets_DF_1.csv\",row.names=F)#Facebook Cambridge Analytica\n",
    "write.csv(Tweets_DF_2,\"Tweets_DF_2.csv\",row.names=F)#FacebookDataLeaks\n",
    "write.csv(Tweets_DF_3,\"Tweets_DF_3.csv\",row.names=F)#Cambridge Analytica"
   ]
  },
  {
   "cell_type": "code",
   "execution_count": 5,
   "metadata": {
    "collapsed": true
   },
   "outputs": [],
   "source": [
    "MyData_1 <- read.csv(file=\"C:/Users/harik/Tweets_DF_1.csv\", header=TRUE, sep=\",\")\n",
    "MyData_2 <- read.csv(file=\"C:/Users/harik/Tweets_DF_2.csv\", header=TRUE, sep=\",\")\n",
    "MyData_3 <- read.csv(file=\"C:/Users/harik/Tweets_DF_3.csv\", header=TRUE, sep=\",\")"
   ]
  },
  {
   "cell_type": "code",
   "execution_count": 10,
   "metadata": {
    "collapsed": true
   },
   "outputs": [],
   "source": [
    "rdata <- rbind(MyData_1,rbind(MyData_2,MyData_3))"
   ]
  },
  {
   "cell_type": "code",
   "execution_count": 11,
   "metadata": {
    "collapsed": true
   },
   "outputs": [],
   "source": [
    "final_r_data <- unique(rdata)\n",
    "final_r_data <- final_r_data[,c(1)]"
   ]
  },
  {
   "cell_type": "code",
   "execution_count": 6,
   "metadata": {
    "collapsed": true
   },
   "outputs": [],
   "source": [
    "write.csv(final_r_data,\"final_r_data.txt\",row.names=F)"
   ]
  }
 ],
 "metadata": {
  "kernelspec": {
   "display_name": "R",
   "language": "R",
   "name": "ir"
  },
  "language_info": {
   "codemirror_mode": "r",
   "file_extension": ".r",
   "mimetype": "text/x-r-source",
   "name": "R",
   "pygments_lexer": "r",
   "version": "3.4.2"
  }
 },
 "nbformat": 4,
 "nbformat_minor": 2
}
